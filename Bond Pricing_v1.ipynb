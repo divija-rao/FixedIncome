{
 "cells": [
  {
   "cell_type": "code",
   "execution_count": 1,
   "metadata": {},
   "outputs": [],
   "source": [
    "import numpy as np\n",
    "import pandas as pd\n",
    "from scipy.optimize import minimize"
   ]
  },
  {
   "cell_type": "code",
   "execution_count": 2,
   "metadata": {},
   "outputs": [],
   "source": [
    "# Load STRIPS data\n",
    "strips_data = pd.read_csv(\"/Users/dr/Documents/GitHub/FixedIncome/STRIPS_data.csv\")"
   ]
  },
  {
   "cell_type": "code",
   "execution_count": 3,
   "metadata": {},
   "outputs": [],
   "source": [
    "# Define BGM model class\n",
    "class BGMModel:\n",
    "    def __init__(self, vol, correlation, dt):\n",
    "        self.vol = vol\n",
    "        self.correlation = correlation\n",
    "        self.dt = dt\n",
    "\n",
    "    def simulate_forward_rates(self, initial_rates, num_steps, num_paths):\n",
    "        num_rates = len(initial_rates)\n",
    "        rates = np.zeros((num_paths, num_steps, num_rates))\n",
    "        rates[:, 0, :] = initial_rates\n",
    "\n",
    "        for t in range(1, num_steps):\n",
    "            dW = np.random.multivariate_normal(mean=np.zeros(num_rates), cov=self.correlation * self.dt, size=num_paths)\n",
    "            rates[:, t, :] = rates[:, t-1, :] + self.vol * rates[:, t-1, :] * dW\n",
    "\n",
    "        return rates"
   ]
  },
  {
   "cell_type": "code",
   "execution_count": null,
   "metadata": {},
   "outputs": [],
   "source": [
    "\n",
    "# Calibrate BGM model to market data\n",
    "def calibrate_bgm(market_data):\n",
    "    def error_function(params):\n",
    "        vol, correlation = params[0], params[1]\n",
    "        model = BGMModel(vol, correlation, dt=1/252)\n",
    "        simulated_rates = model.simulate_forward_rates(initial_rates=market_data['Yield'].values, num_steps=10, num_paths=1000)\n",
    "        model_prices = np.mean(np.exp(-np.cumsum(simulated_rates, axis=1)), axis=0)\n",
    "        return np.sum((market_data['Price'].values - model_prices) ** 2)\n",
    "\n",
    "    result = minimize(error_function, x0=[0.01, 0.5], bounds=[(0.001, 0.1), (0, 1)])\n",
    "    return BGMModel(result.x[0], result.x[1], dt=1/252)\n",
    "\n",
    "# Apply calibration and simulation\n",
    "bgm_model = calibrate_bgm(strips_data)\n",
    "simulated_rates = bgm_model.simulate_forward_rates(initial_rates=strips_data['Yield'].values, num_steps=10, num_paths=1000)\n",
    "\n",
    "# Compute bond prices using discount factors\n",
    "model_prices = np.mean(np.exp(-np.cumsum(simulated_rates, axis=1)), axis=0)\n",
    "\n",
    "# Compare model prices with market prices\n",
    "comparison_df = pd.DataFrame({\n",
    "    'Maturity': strips_data['Maturity'],\n",
    "    'Market Price': strips_data['Price'],\n",
    "    'Model Price': model_prices\n",
    "})\n",
    "\n",
    "# Calculate pricing errors\n",
    "comparison_df['Pricing Error'] = comparison_df['Market Price'] - comparison_df['Model Price']\n",
    "\n",
    "# Display results\n",
    "print(comparison_df.head())"
   ]
  }
 ],
 "metadata": {
  "kernelspec": {
   "display_name": "base",
   "language": "python",
   "name": "python3"
  },
  "language_info": {
   "codemirror_mode": {
    "name": "ipython",
    "version": 3
   },
   "file_extension": ".py",
   "mimetype": "text/x-python",
   "name": "python",
   "nbconvert_exporter": "python",
   "pygments_lexer": "ipython3",
   "version": "3.12.2"
  }
 },
 "nbformat": 4,
 "nbformat_minor": 2
}
