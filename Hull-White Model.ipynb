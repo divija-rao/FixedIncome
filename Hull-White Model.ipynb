{
 "cells": [
  {
   "cell_type": "markdown",
   "metadata": {},
   "source": [
    "# Hull-White Model Implementation\n",
    "\n",
    "The Hull-White model is an extension of the Vasicek model with a time-dependent drift, making it more flexible for fitting the yield curve. \n",
    "\n",
    "## One-Factor Hull-White Model Overview\n",
    "\n",
    "The Hull-White model assumes the short rate $r(t)$ follows the stochastic differential equation (SDE) under the risk-neutral measure:\n",
    "\n",
    "$$dr(t) = [\\theta(t) - \\kappa r(t)]dt + \\sigma dW(t)$$\n",
    "\n",
    "Where:\n",
    "- $r(t)$: Short rate at time $t$\n",
    "- $\\kappa$: Mean reversion speed\n",
    "- $\\theta(t)$: Time-dependent drift, chosen to fit the initial yield curve\n",
    "- $\\sigma$: Constant volatility\n",
    "- $dW(t)$: Wiener process increment\n",
    "\n",
    "Unlike the CIR model, the Hull-White model allows negative rates due to its Gaussian diffusion term, but it's analytically tractable and widely used for interest rate derivatives pricing. The bond price is affine:\n",
    "\n",
    "$$P(t,T) = A(t,T)e^{-B(t,T)r(t)}$$\n",
    "\n",
    "Where:\n",
    "\n",
    "$$B(t,T) = \\frac{1 - e^{-\\kappa(T-t)}}{\\kappa}$$\n",
    "\n",
    "$$A(t,T) = \\exp\\left(\\int_t^T \\theta(s)B(s,T)ds - \\frac{\\sigma^2}{2}\\int_t^T B(s,T)^2ds\\right)$$\n",
    "\n",
    "To fit the initial yield curve, $\\theta(t)$ is derived as:\n",
    "\n",
    "$$\\theta(t) = \\frac{\\partial f(0,t)}{\\partial t} + \\kappa f(0,t) + \\frac{\\sigma^2}{2\\kappa}(1 - e^{-2\\kappa t})$$\n",
    "\n",
    "Where $f(0,t) = -\\frac{\\partial \\ln P(0,t)}{\\partial t}$ is the instantaneous forward rate at time 0 for maturity $t$, typically bootstrapped from the observed yield curve.\n",
    "\n",
    "For simplicity, we'll parameterize the model with $\\kappa$, $\\sigma$, and the initial short rate $r_0$, and use the STRIPS data to estimate the forward rates $f(0,t)$.\n"
   ]
  },
  {
   "cell_type": "markdown",
   "metadata": {},
   "source": [
    "# Data Preparation\n",
    "Load and prepare the STRIPS data for February 04, 2025, extracting maturities and yields.\n",
    "\n",
    "### Data Loading\n",
    "Extracts maturities and yields for February 04, 2025, scaling yields to percentages.\n",
    "\n",
    "### Interpolation\n",
    "Uses linear interpolation to create a dense grid of yields, ensuring smooth estimation of $f(0,t)$.\n",
    "\n",
    "### Bond Prices\n",
    "Converts yields to zero-coupon bond prices using:\n",
    "\n",
    "$$P(0,T) = e^{-y(T)T}$$\n",
    "\n",
    "### Forward Rates\n",
    "Estimates $f(0,t)$ numerically as:\n",
    "\n",
    "$$f(0,t) = -\\frac{\\partial \\ln P(0,t)}{\\partial t}$$\n",
    "\n",
    "using a small time step $dt = 10^{-4}$.\n",
    "\n",
    "### Spline\n",
    "Fits a cubic spline to the forward rates for smooth evaluation in $\\theta(t)$."
   ]
  },
  {
   "cell_type": "code",
   "execution_count": 45,
   "metadata": {},
   "outputs": [],
   "source": [
    "import pandas as pd\n",
    "import numpy as np"
   ]
  },
  {
   "cell_type": "code",
   "execution_count": 46,
   "metadata": {},
   "outputs": [],
   "source": [
    "# Data Preparation\n",
    "df = pd.read_csv('/Users/dr/Documents/GitHub/FixedIncome/STRIPS_data.csv')\n",
    "maturities = sorted(set(col.split('_')[1] for col in df.columns if 'Time_' in col))\n",
    "dt = '2025-02-04'\n",
    "data_on_date = df[df['Date'] == dt]\n",
    "times = np.array([data_on_date[f'Time_{mat}'].values[0] for mat in maturities])\n",
    "yields = np.array([data_on_date[f'Yield_{mat}'].values[0] for mat in maturities]) * 100\n",
    "valid_idx = ~np.isnan(times) & ~np.isnan(yields)\n",
    "times = times[valid_idx]\n",
    "yields = yields[valid_idx]"
   ]
  },
  {
   "cell_type": "code",
   "execution_count": 47,
   "metadata": {},
   "outputs": [],
   "source": [
    "from scipy.interpolate import interp1d, CubicSpline, PchipInterpolator"
   ]
  },
  {
   "cell_type": "code",
   "execution_count": 48,
   "metadata": {},
   "outputs": [
    {
     "name": "stdout",
     "output_type": "stream",
     "text": [
      "Forward rates: [0.02860461 0.0426504  0.04990697 0.0464429  0.03556886]\n",
      "Times after sorting and deduplication: [0.03011636 0.27378508 0.52566735 0.77754962 1.0294319 ]\n",
      "Yields after sorting and deduplication: [2.52  4.204 3.694 4.243 4.081]\n",
      "Forward rates: [0.02860461 0.0426504  0.04990697 0.0464429  0.03556886]\n"
     ]
    }
   ],
   "source": [
    "# Forward Rates Calculation\n",
    "\n",
    "# Ensure times is strictly increasing\n",
    "times = np.array(times)  # Convert to numpy array if not already\n",
    "yields = np.array(yields)  # Ensure yields matches times\n",
    "# Sort by times and remove duplicates\n",
    "sort_indices = np.argsort(times)\n",
    "times = times[sort_indices]\n",
    "yields = yields[sort_indices]\n",
    "unique_mask = np.ones(len(times), dtype=bool)\n",
    "unique_mask[1:] = np.diff(times) > 0  # Keep only where diff > 0\n",
    "times = times[unique_mask]\n",
    "yields = yields[unique_mask]\n",
    "\n",
    "\n",
    "time_grid = np.linspace(min(times), max(times), 200)\n",
    "\n",
    "# Use PchipInterpolator for monotonic, smooth interpolation; assume yields are in percent\n",
    "interp_func = PchipInterpolator(times, yields, extrapolate=True)\n",
    "yields_interp = interp_func(time_grid)\n",
    "\n",
    "dt_small = 1e-4\n",
    "forward_rates = np.zeros_like(time_grid)\n",
    "for i, t in enumerate(time_grid):\n",
    "    if t <= dt_small:\n",
    "        # Ensure positive forward rate at t=0, yields in % converted to decimal in exponent\n",
    "        p1 = np.exp(-interp_func(t + dt_small) / 100 * (t + dt_small)) # /100 for decimal yield\n",
    "        p0 = 1.0\n",
    "        forward_rates[i] = max(-(np.log(p1) - np.log(p0)) / dt_small, yields[0] / 100) # Floor at first yield\n",
    "    else:\n",
    "        p_plus = np.exp(-interp_func(t + dt_small) / 100 * (t + dt_small))\n",
    "        p_minus = np.exp(-interp_func(t - dt_small) / 100 * (t - dt_small))\n",
    "        forward_rates[i] = -(np.log(p_plus) - np.log(p_minus)) / (2 * dt_small)\n",
    "\n",
    "forward_spline = CubicSpline(time_grid, forward_rates, bc_type='natural')\n",
    "print(\"Forward rates:\", forward_rates[:5])\n",
    "\n",
    "print(\"Times after sorting and deduplication:\", times[:5])\n",
    "print(\"Yields after sorting and deduplication:\", yields[:5])\n",
    "print(\"Forward rates:\", forward_rates[:5])"
   ]
  },
  {
   "cell_type": "markdown",
   "metadata": {},
   "source": [
    "# Define the One-Factor Hull-White Model Class\n",
    "\n",
    "This class implements the Hull-White model, including the computation of $\\theta(t)$, bond prices, and yields.\n",
    "\n",
    "#### Initialization\n",
    "- Takes $r_0$, $\\kappa$, $\\sigma$, and the forward rate spline.\n",
    "- Clamps $\\kappa$ and $\\sigma$ to avoid division by zero.\n",
    "\n",
    "#### $B(t,T)$\n",
    "- Computes the loading factor:\n",
    "$$B(t,T) = \\frac{1 - e^{-\\kappa(T-t)}}{\\kappa}$$\n",
    "- Handles $\\kappa \\to 0$ by approximating $B \\approx \\tau$.\n",
    "\n",
    "#### $\\theta(t)$\n",
    "- Calculates the time-dependent drift using the forward rate spline.\n",
    "- Numerically estimates $\\frac{\\partial f}{\\partial t}$.\n",
    "\n",
    "#### $A(t,T)$\n",
    "- Numerically integrates the two terms in the exponent using a simple trapezoidal rule over 100 points:\n",
    "$$A(t,T) = \\exp\\left(\\int_t^T \\theta(s)B(s,T)ds - \\frac{\\sigma^2}{2}\\int_t^T B(s,T)^2ds\\right)$$\n",
    "- Avoids analytical integration, which is complex for arbitrary $\\theta(t)$.\n",
    "\n",
    "#### `zero`\n",
    "- Computes the bond price:\n",
    "$$P(t,T) = A(t,T)e^{-B(t,T)r(t)}$$\n",
    "- Clamps to $1e^{-10}$ to avoid log(0).\n",
    "\n",
    "#### `yield_curve`\n",
    "- Calculates the yield as:\n",
    "$$Y(t,T) = -\\frac{\\ln(P)}{\\tau} \\times 100$$\n",
    "\n",
    "#### `update_params`\n",
    "- Updates parameters during optimization, maintaining positivity constraints."
   ]
  },
  {
   "cell_type": "code",
   "execution_count": 49,
   "metadata": {},
   "outputs": [],
   "source": [
    "from scipy.integrate import quad"
   ]
  },
  {
   "cell_type": "code",
   "execution_count": 50,
   "metadata": {},
   "outputs": [],
   "source": [
    "#One Factor Hull-White Model\n",
    "class One_Factor_Model:\n",
    "    def __init__(self, r0, kappa, sigma, times, forward_rates):\n",
    "        self.r0 = r0\n",
    "        self.kappa = max(kappa, 1e-6)\n",
    "        self.sigma = max(sigma, 1e-6)\n",
    "        self.forward_spline = CubicSpline(times, forward_rates, bc_type='natural')\n",
    "    \n",
    "    def B(self, t, T):\n",
    "        tau = T - t\n",
    "        if tau <= 0:\n",
    "            return 0\n",
    "        if self.kappa < 1e-6:\n",
    "            return tau\n",
    "        return (1 - np.exp(-self.kappa * tau)) / self.kappa\n",
    "    \n",
    "    def theta(self, t):\n",
    "        f_t = self.forward_spline(t)\n",
    "        df_dt = self.forward_spline.derivative()(t)\n",
    "        term2 = self.kappa * f_t\n",
    "        term3 = (self.sigma**2 / (2 * self.kappa)) * (1 - np.exp(-2 * self.kappa * t)) if self.kappa > 1e-6 else 0\n",
    "        theta_val = df_dt + term2 + term3\n",
    "        # print(f\"t={t}, f_t={f_t}, df_dt={df_dt}, theta={theta_val}\")\n",
    "        return theta_val\n",
    "\n",
    "    def A(self, t, T):\n",
    "        tau = T - t\n",
    "        if tau <= 0:\n",
    "            return 1.0\n",
    "        steps = [t + i * tau / 20 for i in range(21)]  # More subintervals\n",
    "        integral1 = 0\n",
    "        integral2 = 0\n",
    "        for i in range(len(steps) - 1):\n",
    "            int1, err1 = quad(lambda s: self.theta(s) * self.B(s, T), steps[i], steps[i+1], limit=100)\n",
    "            int2, err2 = quad(lambda s: self.B(s, T)**2, steps[i], steps[i+1], limit=100)\n",
    "            integral1 += int1\n",
    "            integral2 += int2\n",
    "            # print(f\"Subinterval [{steps[i]},{steps[i+1]}]: int1={int1}, err1={err1}\")\n",
    "        result = np.exp(integral1 - (self.sigma**2 / 2) * integral2)\n",
    "        # print(f\"A({t},{T}): integral1={integral1}, integral2={integral2}, result={result}\")\n",
    "        return result\n",
    "\n",
    "    def zero(self, t0, T, r_t0):\n",
    "        tau = T - t0\n",
    "        if tau <= 0:\n",
    "            return 1.0\n",
    "        A = self.A(t0, T)\n",
    "        B = self.B(t0, T)\n",
    "        p = A * np.exp(-B * r_t0)\n",
    "        # print(f\"P({t},{T}): A={A}, B={B}, r={r_t0}, P={p}\")\n",
    "        return max(p, 1e-10)\n",
    "\n",
    "    def yield_curve(self, tau):\n",
    "        if tau <= 0:\n",
    "            return np.nan\n",
    "        p = self.zero(0, tau, self.r0)\n",
    "        y = -np.log(p) / tau * 100\n",
    "        return y\n",
    "\n",
    "    def update_params(self, x):\n",
    "        self.r0 = x[0]\n",
    "        self.kappa = max(x[1], 1e-6)\n",
    "        self.sigma = max(x[2], 1e-6)"
   ]
  },
  {
   "cell_type": "markdown",
   "metadata": {},
   "source": [
    "# Test the Model\n",
    "Initialize with reasonable parameters and compute initial yields\n",
    "\n",
    "#### Parameters\n",
    "- $r_0 = 0.04$: Initial short rate set to 4%, matching previous models.\n",
    "- $\\kappa = 0.1$: Moderate mean reversion speed.\n",
    "- $\\sigma = 0.05$: Volatility set to 5%, typical for interest rate models.\n",
    "\n",
    "#### Yields\n",
    "Computes yields at the observed maturities, which should be close to the STRIPS yields due to $\\theta(t)$ being calibrated to the forward curve."
   ]
  },
  {
   "cell_type": "code",
   "execution_count": 51,
   "metadata": {},
   "outputs": [
    {
     "name": "stdout",
     "output_type": "stream",
     "text": [
      "Model prices: [0.9992329995751393, 0.9976512681836848, 0.9930304585148788, 0.9941337814943089, 0.9909643242169859]\n",
      "Initial model yields (%): [2.547767241322447, 0.8588833345194296, 1.3304882193807785, 0.7566709796020598, 0.881723707688401]\n",
      "Data yields (%): [2.52  4.204 3.694 4.243 4.081]\n",
      "Theta at t=0.5: 0.18596308036325876\n",
      "A(0,0.5257): 1.0078775485108271\n"
     ]
    }
   ],
   "source": [
    "# Test Model\n",
    "r0 = forward_rates[0]\n",
    "kappa, sigma = 0.05, 0.01\n",
    "m = One_Factor_Model(r0, kappa, sigma,times=time_grid, forward_rates=forward_rates)\n",
    "model_yields = [m.yield_curve(t) for t in times]\n",
    "\n",
    "print(\"Model prices:\", [m.zero(0, t, m.r0) for t in times[:5]])\n",
    "print(\"Initial model yields (%):\", model_yields[:5])\n",
    "print(\"Data yields (%):\", yields[:5])\n",
    "\n",
    "\n",
    "print(\"Theta at t=0.5:\", m.theta(0.5))\n",
    "print(\"A(0,0.5257):\", m.A(0, 0.5256673511293635))\n"
   ]
  },
  {
   "cell_type": "code",
   "execution_count": 52,
   "metadata": {},
   "outputs": [],
   "source": [
    "from matplotlib import pyplot as plt"
   ]
  },
  {
   "cell_type": "code",
   "execution_count": 53,
   "metadata": {},
   "outputs": [
    {
     "data": {
      "image/png": "[encoded data removed]",
      "text/plain": [
       "<Figure size 1000x500 with 1 Axes>"
      ]
     },
     "metadata": {},
     "output_type": "display_data"
    }
   ],
   "source": [
    "#Plot Initial Fit\n",
    "def plot_yields(dt, obs_times, obs_yields, model, min_time=1e-4, max_time=15, num_points=100):\n",
    "    time_grid = np.linspace(min_time, max_time, num_points)\n",
    "    interp_func = interp1d(obs_times, obs_yields, kind='linear', bounds_error=False, fill_value='extrapolate')\n",
    "    strips_interp_yields = interp_func(time_grid)\n",
    "    model_yields = [model.yield_curve(t) for t in time_grid]\n",
    "    \n",
    "    f = plt.figure(figsize=(10, 5))\n",
    "    ax = f.add_subplot(111)\n",
    "    ax.yaxis.tick_right()\n",
    "    plt.plot(time_grid, strips_interp_yields, label=f'STRIPS {dt}', linestyle='dotted', marker='o', color='blue', markersize=4)\n",
    "    plt.plot(time_grid, model_yields, label='Model', linestyle='solid', color='orange')\n",
    "    plt.xlabel('Time to Maturity (years)')\n",
    "    plt.ylabel('Yield (%)')\n",
    "    plt.legend(loc='lower right')\n",
    "    plt.title(f'Yield Curve on {dt}')\n",
    "    plt.grid(True)\n",
    "    plt.show()\n",
    "\n",
    "plot_yields(dt, times, yields, m)"
   ]
  },
  {
   "cell_type": "code",
   "execution_count": 54,
   "metadata": {},
   "outputs": [],
   "source": [
    "from scipy.optimize import least_squares\n",
    "import warnings"
   ]
  },
  {
   "cell_type": "code",
   "execution_count": 55,
   "metadata": {},
   "outputs": [
    {
     "ename": "KeyboardInterrupt",
     "evalue": "",
     "output_type": "error",
     "traceback": [
      "\u001b[0;31m---------------------------------------------------------------------------\u001b[0m",
      "\u001b[0;31mKeyboardInterrupt\u001b[0m                         Traceback (most recent call last)",
      "Cell \u001b[0;32mIn[55], line 32\u001b[0m\n\u001b[1;32m     30\u001b[0m x0 \u001b[38;5;241m=\u001b[39m [\u001b[38;5;241m0.04\u001b[39m, \u001b[38;5;241m0.05\u001b[39m, \u001b[38;5;241m0.05\u001b[39m]\n\u001b[1;32m     31\u001b[0m fitter \u001b[38;5;241m=\u001b[39m Fitter(m, yields, times, \u001b[38;5;124m'\u001b[39m\u001b[38;5;124mQ\u001b[39m\u001b[38;5;124m'\u001b[39m)\n\u001b[0;32m---> 32\u001b[0m fit_result \u001b[38;5;241m=\u001b[39m fitter\u001b[38;5;241m.\u001b[39mfit(x0)\n\u001b[1;32m     33\u001b[0m \u001b[38;5;28mprint\u001b[39m(\u001b[38;5;124m\"\u001b[39m\u001b[38;5;124mOptimized parameters [r0, kappa, sigma]:\u001b[39m\u001b[38;5;124m\"\u001b[39m, fit_result\u001b[38;5;241m.\u001b[39mx)\n\u001b[1;32m     34\u001b[0m m\u001b[38;5;241m.\u001b[39mupdate_params(fit_result\u001b[38;5;241m.\u001b[39mx)\n",
      "Cell \u001b[0;32mIn[55], line 23\u001b[0m, in \u001b[0;36mFitter.fit\u001b[0;34m(self, x0, solver)\u001b[0m\n\u001b[1;32m     21\u001b[0m \u001b[38;5;28;01mdef\u001b[39;00m \u001b[38;5;21mfit\u001b[39m(\u001b[38;5;28mself\u001b[39m, x0, solver\u001b[38;5;241m=\u001b[39m\u001b[38;5;124m'\u001b[39m\u001b[38;5;124mtrf\u001b[39m\u001b[38;5;124m'\u001b[39m):\n\u001b[1;32m     22\u001b[0m     bounds \u001b[38;5;241m=\u001b[39m ([\u001b[38;5;241m1e-6\u001b[39m, \u001b[38;5;241m1e-6\u001b[39m, \u001b[38;5;241m1e-6\u001b[39m], [np\u001b[38;5;241m.\u001b[39minf, \u001b[38;5;241m0.5\u001b[39m, \u001b[38;5;241m0.5\u001b[39m])\n\u001b[0;32m---> 23\u001b[0m     result \u001b[38;5;241m=\u001b[39m least_squares(\u001b[38;5;28mself\u001b[39m\u001b[38;5;241m.\u001b[39mresiduals, x0, method\u001b[38;5;241m=\u001b[39msolver, bounds\u001b[38;5;241m=\u001b[39mbounds, verbose\u001b[38;5;241m=\u001b[39m\u001b[38;5;241m1\u001b[39m)\n\u001b[1;32m     24\u001b[0m     \u001b[38;5;28;01mif\u001b[39;00m \u001b[38;5;129;01mnot\u001b[39;00m result\u001b[38;5;241m.\u001b[39msuccess:\n\u001b[1;32m     25\u001b[0m         warnings\u001b[38;5;241m.\u001b[39mwarn(\u001b[38;5;124m\"\u001b[39m\u001b[38;5;124mFit did not converge\u001b[39m\u001b[38;5;124m\"\u001b[39m)\n",
      "File \u001b[0;32m/opt/anaconda3/lib/python3.12/site-packages/scipy/optimize/_lsq/least_squares.py:941\u001b[0m, in \u001b[0;36mleast_squares\u001b[0;34m(fun, x0, jac, bounds, method, ftol, xtol, gtol, x_scale, loss, f_scale, diff_step, tr_solver, tr_options, jac_sparsity, max_nfev, verbose, args, kwargs)\u001b[0m\n\u001b[1;32m    937\u001b[0m     result \u001b[38;5;241m=\u001b[39m call_minpack(fun_wrapped, x0, jac_wrapped, ftol, xtol, gtol,\n\u001b[1;32m    938\u001b[0m                           max_nfev, x_scale, diff_step)\n\u001b[1;32m    940\u001b[0m \u001b[38;5;28;01melif\u001b[39;00m method \u001b[38;5;241m==\u001b[39m \u001b[38;5;124m'\u001b[39m\u001b[38;5;124mtrf\u001b[39m\u001b[38;5;124m'\u001b[39m:\n\u001b[0;32m--> 941\u001b[0m     result \u001b[38;5;241m=\u001b[39m trf(fun_wrapped, jac_wrapped, x0, f0, J0, lb, ub, ftol, xtol,\n\u001b[1;32m    942\u001b[0m                  gtol, max_nfev, x_scale, loss_function, tr_solver,\n\u001b[1;32m    943\u001b[0m                  tr_options\u001b[38;5;241m.\u001b[39mcopy(), verbose)\n\u001b[1;32m    945\u001b[0m \u001b[38;5;28;01melif\u001b[39;00m method \u001b[38;5;241m==\u001b[39m \u001b[38;5;124m'\u001b[39m\u001b[38;5;124mdogbox\u001b[39m\u001b[38;5;124m'\u001b[39m:\n\u001b[1;32m    946\u001b[0m     \u001b[38;5;28;01mif\u001b[39;00m tr_solver \u001b[38;5;241m==\u001b[39m \u001b[38;5;124m'\u001b[39m\u001b[38;5;124mlsmr\u001b[39m\u001b[38;5;124m'\u001b[39m \u001b[38;5;129;01mand\u001b[39;00m \u001b[38;5;124m'\u001b[39m\u001b[38;5;124mregularize\u001b[39m\u001b[38;5;124m'\u001b[39m \u001b[38;5;129;01min\u001b[39;00m tr_options:\n",
      "File \u001b[0;32m/opt/anaconda3/lib/python3.12/site-packages/scipy/optimize/_lsq/trf.py:123\u001b[0m, in \u001b[0;36mtrf\u001b[0;34m(fun, jac, x0, f0, J0, lb, ub, ftol, xtol, gtol, max_nfev, x_scale, loss_function, tr_solver, tr_options, verbose)\u001b[0m\n\u001b[1;32m    119\u001b[0m     \u001b[38;5;28;01mreturn\u001b[39;00m trf_no_bounds(\n\u001b[1;32m    120\u001b[0m         fun, jac, x0, f0, J0, ftol, xtol, gtol, max_nfev, x_scale,\n\u001b[1;32m    121\u001b[0m         loss_function, tr_solver, tr_options, verbose)\n\u001b[1;32m    122\u001b[0m \u001b[38;5;28;01melse\u001b[39;00m:\n\u001b[0;32m--> 123\u001b[0m     \u001b[38;5;28;01mreturn\u001b[39;00m trf_bounds(\n\u001b[1;32m    124\u001b[0m         fun, jac, x0, f0, J0, lb, ub, ftol, xtol, gtol, max_nfev, x_scale,\n\u001b[1;32m    125\u001b[0m         loss_function, tr_solver, tr_options, verbose)\n",
      "File \u001b[0;32m/opt/anaconda3/lib/python3.12/site-packages/scipy/optimize/_lsq/trf.py:374\u001b[0m, in \u001b[0;36mtrf_bounds\u001b[0;34m(fun, jac, x0, f0, J0, lb, ub, ftol, xtol, gtol, max_nfev, x_scale, loss_function, tr_solver, tr_options, verbose)\u001b[0m\n\u001b[1;32m    370\u001b[0m f_true \u001b[38;5;241m=\u001b[39m f\u001b[38;5;241m.\u001b[39mcopy()\n\u001b[1;32m    372\u001b[0m cost \u001b[38;5;241m=\u001b[39m cost_new\n\u001b[0;32m--> 374\u001b[0m J \u001b[38;5;241m=\u001b[39m jac(x, f)\n\u001b[1;32m    375\u001b[0m njev \u001b[38;5;241m+\u001b[39m\u001b[38;5;241m=\u001b[39m \u001b[38;5;241m1\u001b[39m\n\u001b[1;32m    377\u001b[0m \u001b[38;5;28;01mif\u001b[39;00m loss_function \u001b[38;5;129;01mis\u001b[39;00m \u001b[38;5;129;01mnot\u001b[39;00m \u001b[38;5;28;01mNone\u001b[39;00m:\n",
      "File \u001b[0;32m/opt/anaconda3/lib/python3.12/site-packages/scipy/optimize/_lsq/least_squares.py:898\u001b[0m, in \u001b[0;36mleast_squares.<locals>.jac_wrapped\u001b[0;34m(x, f)\u001b[0m\n\u001b[1;32m    897\u001b[0m \u001b[38;5;28;01mdef\u001b[39;00m \u001b[38;5;21mjac_wrapped\u001b[39m(x, f):\n\u001b[0;32m--> 898\u001b[0m     J \u001b[38;5;241m=\u001b[39m approx_derivative(fun, x, rel_step\u001b[38;5;241m=\u001b[39mdiff_step, method\u001b[38;5;241m=\u001b[39mjac,\n\u001b[1;32m    899\u001b[0m                           f0\u001b[38;5;241m=\u001b[39mf, bounds\u001b[38;5;241m=\u001b[39mbounds, args\u001b[38;5;241m=\u001b[39margs,\n\u001b[1;32m    900\u001b[0m                           kwargs\u001b[38;5;241m=\u001b[39mkwargs, sparsity\u001b[38;5;241m=\u001b[39mjac_sparsity)\n\u001b[1;32m    901\u001b[0m     \u001b[38;5;28;01mif\u001b[39;00m J\u001b[38;5;241m.\u001b[39mndim \u001b[38;5;241m!=\u001b[39m \u001b[38;5;241m2\u001b[39m:  \u001b[38;5;66;03m# J is guaranteed not sparse.\u001b[39;00m\n\u001b[1;32m    902\u001b[0m         J \u001b[38;5;241m=\u001b[39m np\u001b[38;5;241m.\u001b[39matleast_2d(J)\n",
      "File \u001b[0;32m/opt/anaconda3/lib/python3.12/site-packages/scipy/optimize/_numdiff.py:519\u001b[0m, in \u001b[0;36mapprox_derivative\u001b[0;34m(fun, x0, method, rel_step, abs_step, f0, bounds, sparsity, as_linear_operator, args, kwargs)\u001b[0m\n\u001b[1;32m    516\u001b[0m     use_one_sided \u001b[38;5;241m=\u001b[39m \u001b[38;5;28;01mFalse\u001b[39;00m\n\u001b[1;32m    518\u001b[0m \u001b[38;5;28;01mif\u001b[39;00m sparsity \u001b[38;5;129;01mis\u001b[39;00m \u001b[38;5;28;01mNone\u001b[39;00m:\n\u001b[0;32m--> 519\u001b[0m     \u001b[38;5;28;01mreturn\u001b[39;00m _dense_difference(fun_wrapped, x0, f0, h,\n\u001b[1;32m    520\u001b[0m                              use_one_sided, method)\n\u001b[1;32m    521\u001b[0m \u001b[38;5;28;01melse\u001b[39;00m:\n\u001b[1;32m    522\u001b[0m     \u001b[38;5;28;01mif\u001b[39;00m \u001b[38;5;129;01mnot\u001b[39;00m issparse(sparsity) \u001b[38;5;129;01mand\u001b[39;00m \u001b[38;5;28mlen\u001b[39m(sparsity) \u001b[38;5;241m==\u001b[39m \u001b[38;5;241m2\u001b[39m:\n",
      "File \u001b[0;32m/opt/anaconda3/lib/python3.12/site-packages/scipy/optimize/_numdiff.py:592\u001b[0m, in \u001b[0;36m_dense_difference\u001b[0;34m(fun, x0, f0, h, use_one_sided, method)\u001b[0m\n\u001b[1;32m    590\u001b[0m     x1[i] \u001b[38;5;241m+\u001b[39m\u001b[38;5;241m=\u001b[39m h[i]\n\u001b[1;32m    591\u001b[0m     dx \u001b[38;5;241m=\u001b[39m x1[i] \u001b[38;5;241m-\u001b[39m x0[i]  \u001b[38;5;66;03m# Recompute dx as exactly representable number.\u001b[39;00m\n\u001b[0;32m--> 592\u001b[0m     df \u001b[38;5;241m=\u001b[39m fun(x1) \u001b[38;5;241m-\u001b[39m f0\n\u001b[1;32m    593\u001b[0m \u001b[38;5;28;01melif\u001b[39;00m method \u001b[38;5;241m==\u001b[39m \u001b[38;5;124m'\u001b[39m\u001b[38;5;124m3-point\u001b[39m\u001b[38;5;124m'\u001b[39m \u001b[38;5;129;01mand\u001b[39;00m use_one_sided[i]:\n\u001b[1;32m    594\u001b[0m     x1[i] \u001b[38;5;241m+\u001b[39m\u001b[38;5;241m=\u001b[39m h[i]\n",
      "File \u001b[0;32m/opt/anaconda3/lib/python3.12/site-packages/scipy/optimize/_numdiff.py:470\u001b[0m, in \u001b[0;36mapprox_derivative.<locals>.fun_wrapped\u001b[0;34m(x)\u001b[0m\n\u001b[1;32m    467\u001b[0m \u001b[38;5;28;01mif\u001b[39;00m xp\u001b[38;5;241m.\u001b[39misdtype(x\u001b[38;5;241m.\u001b[39mdtype, \u001b[38;5;124m\"\u001b[39m\u001b[38;5;124mreal floating\u001b[39m\u001b[38;5;124m\"\u001b[39m):\n\u001b[1;32m    468\u001b[0m     x \u001b[38;5;241m=\u001b[39m xp\u001b[38;5;241m.\u001b[39mastype(x, x0\u001b[38;5;241m.\u001b[39mdtype)\n\u001b[0;32m--> 470\u001b[0m f \u001b[38;5;241m=\u001b[39m np\u001b[38;5;241m.\u001b[39matleast_1d(fun(x, \u001b[38;5;241m*\u001b[39margs, \u001b[38;5;241m*\u001b[39m\u001b[38;5;241m*\u001b[39mkwargs))\n\u001b[1;32m    471\u001b[0m \u001b[38;5;28;01mif\u001b[39;00m f\u001b[38;5;241m.\u001b[39mndim \u001b[38;5;241m>\u001b[39m \u001b[38;5;241m1\u001b[39m:\n\u001b[1;32m    472\u001b[0m     \u001b[38;5;28;01mraise\u001b[39;00m \u001b[38;5;167;01mRuntimeError\u001b[39;00m(\u001b[38;5;124m\"\u001b[39m\u001b[38;5;124m`fun` return value has \u001b[39m\u001b[38;5;124m\"\u001b[39m\n\u001b[1;32m    473\u001b[0m                        \u001b[38;5;124m\"\u001b[39m\u001b[38;5;124mmore than 1 dimension.\u001b[39m\u001b[38;5;124m\"\u001b[39m)\n",
      "Cell \u001b[0;32mIn[55], line 12\u001b[0m, in \u001b[0;36mFitter.residuals\u001b[0;34m(self, x)\u001b[0m\n\u001b[1;32m     10\u001b[0m m \u001b[38;5;241m=\u001b[39m \u001b[38;5;28mself\u001b[39m\u001b[38;5;241m.\u001b[39mmodel\n\u001b[1;32m     11\u001b[0m m\u001b[38;5;241m.\u001b[39mupdate_params(x)\n\u001b[0;32m---> 12\u001b[0m model_yields \u001b[38;5;241m=\u001b[39m np\u001b[38;5;241m.\u001b[39marray([m\u001b[38;5;241m.\u001b[39myield_curve(t) \u001b[38;5;28;01mfor\u001b[39;00m t \u001b[38;5;129;01min\u001b[39;00m \u001b[38;5;28mself\u001b[39m\u001b[38;5;241m.\u001b[39mtimes])\n\u001b[1;32m     13\u001b[0m \u001b[38;5;28;01mif\u001b[39;00m \u001b[38;5;28mself\u001b[39m\u001b[38;5;241m.\u001b[39mdist \u001b[38;5;241m==\u001b[39m \u001b[38;5;124m'\u001b[39m\u001b[38;5;124mQ\u001b[39m\u001b[38;5;124m'\u001b[39m:\n\u001b[1;32m     14\u001b[0m     \u001b[38;5;28;01mreturn\u001b[39;00m model_yields \u001b[38;5;241m-\u001b[39m \u001b[38;5;28mself\u001b[39m\u001b[38;5;241m.\u001b[39mdata\n",
      "Cell \u001b[0;32mIn[50], line 56\u001b[0m, in \u001b[0;36mOne_Factor_Model.yield_curve\u001b[0;34m(self, tau)\u001b[0m\n\u001b[1;32m     54\u001b[0m \u001b[38;5;28;01mif\u001b[39;00m tau \u001b[38;5;241m<\u001b[39m\u001b[38;5;241m=\u001b[39m \u001b[38;5;241m0\u001b[39m:\n\u001b[1;32m     55\u001b[0m     \u001b[38;5;28;01mreturn\u001b[39;00m np\u001b[38;5;241m.\u001b[39mnan\n\u001b[0;32m---> 56\u001b[0m p \u001b[38;5;241m=\u001b[39m \u001b[38;5;28mself\u001b[39m\u001b[38;5;241m.\u001b[39mzero(\u001b[38;5;241m0\u001b[39m, tau, \u001b[38;5;28mself\u001b[39m\u001b[38;5;241m.\u001b[39mr0)\n\u001b[1;32m     57\u001b[0m y \u001b[38;5;241m=\u001b[39m \u001b[38;5;241m-\u001b[39mnp\u001b[38;5;241m.\u001b[39mlog(p) \u001b[38;5;241m/\u001b[39m tau \u001b[38;5;241m*\u001b[39m \u001b[38;5;241m100\u001b[39m\n\u001b[1;32m     58\u001b[0m \u001b[38;5;28;01mreturn\u001b[39;00m y\n",
      "Cell \u001b[0;32mIn[50], line 47\u001b[0m, in \u001b[0;36mOne_Factor_Model.zero\u001b[0;34m(self, t0, T, r_t0)\u001b[0m\n\u001b[1;32m     45\u001b[0m \u001b[38;5;28;01mif\u001b[39;00m tau \u001b[38;5;241m<\u001b[39m\u001b[38;5;241m=\u001b[39m \u001b[38;5;241m0\u001b[39m:\n\u001b[1;32m     46\u001b[0m     \u001b[38;5;28;01mreturn\u001b[39;00m \u001b[38;5;241m1.0\u001b[39m\n\u001b[0;32m---> 47\u001b[0m A \u001b[38;5;241m=\u001b[39m \u001b[38;5;28mself\u001b[39m\u001b[38;5;241m.\u001b[39mA(t0, T)\n\u001b[1;32m     48\u001b[0m B \u001b[38;5;241m=\u001b[39m \u001b[38;5;28mself\u001b[39m\u001b[38;5;241m.\u001b[39mB(t0, T)\n\u001b[1;32m     49\u001b[0m p \u001b[38;5;241m=\u001b[39m A \u001b[38;5;241m*\u001b[39m np\u001b[38;5;241m.\u001b[39mexp(\u001b[38;5;241m-\u001b[39mB \u001b[38;5;241m*\u001b[39m r_t0)\n",
      "Cell \u001b[0;32mIn[50], line 34\u001b[0m, in \u001b[0;36mOne_Factor_Model.A\u001b[0;34m(self, t, T)\u001b[0m\n\u001b[1;32m     32\u001b[0m integral2 \u001b[38;5;241m=\u001b[39m \u001b[38;5;241m0\u001b[39m\n\u001b[1;32m     33\u001b[0m \u001b[38;5;28;01mfor\u001b[39;00m i \u001b[38;5;129;01min\u001b[39;00m \u001b[38;5;28mrange\u001b[39m(\u001b[38;5;28mlen\u001b[39m(steps) \u001b[38;5;241m-\u001b[39m \u001b[38;5;241m1\u001b[39m):\n\u001b[0;32m---> 34\u001b[0m     int1, err1 \u001b[38;5;241m=\u001b[39m quad(\u001b[38;5;28;01mlambda\u001b[39;00m s: \u001b[38;5;28mself\u001b[39m\u001b[38;5;241m.\u001b[39mtheta(s) \u001b[38;5;241m*\u001b[39m \u001b[38;5;28mself\u001b[39m\u001b[38;5;241m.\u001b[39mB(s, T), steps[i], steps[i\u001b[38;5;241m+\u001b[39m\u001b[38;5;241m1\u001b[39m], limit\u001b[38;5;241m=\u001b[39m\u001b[38;5;241m100\u001b[39m)\n\u001b[1;32m     35\u001b[0m     int2, err2 \u001b[38;5;241m=\u001b[39m quad(\u001b[38;5;28;01mlambda\u001b[39;00m s: \u001b[38;5;28mself\u001b[39m\u001b[38;5;241m.\u001b[39mB(s, T)\u001b[38;5;241m*\u001b[39m\u001b[38;5;241m*\u001b[39m\u001b[38;5;241m2\u001b[39m, steps[i], steps[i\u001b[38;5;241m+\u001b[39m\u001b[38;5;241m1\u001b[39m], limit\u001b[38;5;241m=\u001b[39m\u001b[38;5;241m100\u001b[39m)\n\u001b[1;32m     36\u001b[0m     integral1 \u001b[38;5;241m+\u001b[39m\u001b[38;5;241m=\u001b[39m int1\n",
      "File \u001b[0;32m/opt/anaconda3/lib/python3.12/site-packages/scipy/integrate/_quadpack_py.py:459\u001b[0m, in \u001b[0;36mquad\u001b[0;34m(func, a, b, args, full_output, epsabs, epsrel, limit, points, weight, wvar, wopts, maxp1, limlst, complex_func)\u001b[0m\n\u001b[1;32m    456\u001b[0m     \u001b[38;5;28;01mreturn\u001b[39;00m retval\n\u001b[1;32m    458\u001b[0m \u001b[38;5;28;01mif\u001b[39;00m weight \u001b[38;5;129;01mis\u001b[39;00m \u001b[38;5;28;01mNone\u001b[39;00m:\n\u001b[0;32m--> 459\u001b[0m     retval \u001b[38;5;241m=\u001b[39m _quad(func, a, b, args, full_output, epsabs, epsrel, limit,\n\u001b[1;32m    460\u001b[0m                    points)\n\u001b[1;32m    461\u001b[0m \u001b[38;5;28;01melse\u001b[39;00m:\n\u001b[1;32m    462\u001b[0m     \u001b[38;5;28;01mif\u001b[39;00m points \u001b[38;5;129;01mis\u001b[39;00m \u001b[38;5;129;01mnot\u001b[39;00m \u001b[38;5;28;01mNone\u001b[39;00m:\n",
      "File \u001b[0;32m/opt/anaconda3/lib/python3.12/site-packages/scipy/integrate/_quadpack_py.py:606\u001b[0m, in \u001b[0;36m_quad\u001b[0;34m(func, a, b, args, full_output, epsabs, epsrel, limit, points)\u001b[0m\n\u001b[1;32m    604\u001b[0m \u001b[38;5;28;01mif\u001b[39;00m points \u001b[38;5;129;01mis\u001b[39;00m \u001b[38;5;28;01mNone\u001b[39;00m:\n\u001b[1;32m    605\u001b[0m     \u001b[38;5;28;01mif\u001b[39;00m infbounds \u001b[38;5;241m==\u001b[39m \u001b[38;5;241m0\u001b[39m:\n\u001b[0;32m--> 606\u001b[0m         \u001b[38;5;28;01mreturn\u001b[39;00m _quadpack\u001b[38;5;241m.\u001b[39m_qagse(func,a,b,args,full_output,epsabs,epsrel,limit)\n\u001b[1;32m    607\u001b[0m     \u001b[38;5;28;01melse\u001b[39;00m:\n\u001b[1;32m    608\u001b[0m         \u001b[38;5;28;01mreturn\u001b[39;00m _quadpack\u001b[38;5;241m.\u001b[39m_qagie(func, bound, infbounds, args, full_output, \n\u001b[1;32m    609\u001b[0m                                 epsabs, epsrel, limit)\n",
      "Cell \u001b[0;32mIn[50], line 34\u001b[0m, in \u001b[0;36mOne_Factor_Model.A.<locals>.<lambda>\u001b[0;34m(s)\u001b[0m\n\u001b[1;32m     32\u001b[0m integral2 \u001b[38;5;241m=\u001b[39m \u001b[38;5;241m0\u001b[39m\n\u001b[1;32m     33\u001b[0m \u001b[38;5;28;01mfor\u001b[39;00m i \u001b[38;5;129;01min\u001b[39;00m \u001b[38;5;28mrange\u001b[39m(\u001b[38;5;28mlen\u001b[39m(steps) \u001b[38;5;241m-\u001b[39m \u001b[38;5;241m1\u001b[39m):\n\u001b[0;32m---> 34\u001b[0m     int1, err1 \u001b[38;5;241m=\u001b[39m quad(\u001b[38;5;28;01mlambda\u001b[39;00m s: \u001b[38;5;28mself\u001b[39m\u001b[38;5;241m.\u001b[39mtheta(s) \u001b[38;5;241m*\u001b[39m \u001b[38;5;28mself\u001b[39m\u001b[38;5;241m.\u001b[39mB(s, T), steps[i], steps[i\u001b[38;5;241m+\u001b[39m\u001b[38;5;241m1\u001b[39m], limit\u001b[38;5;241m=\u001b[39m\u001b[38;5;241m100\u001b[39m)\n\u001b[1;32m     35\u001b[0m     int2, err2 \u001b[38;5;241m=\u001b[39m quad(\u001b[38;5;28;01mlambda\u001b[39;00m s: \u001b[38;5;28mself\u001b[39m\u001b[38;5;241m.\u001b[39mB(s, T)\u001b[38;5;241m*\u001b[39m\u001b[38;5;241m*\u001b[39m\u001b[38;5;241m2\u001b[39m, steps[i], steps[i\u001b[38;5;241m+\u001b[39m\u001b[38;5;241m1\u001b[39m], limit\u001b[38;5;241m=\u001b[39m\u001b[38;5;241m100\u001b[39m)\n\u001b[1;32m     36\u001b[0m     integral1 \u001b[38;5;241m+\u001b[39m\u001b[38;5;241m=\u001b[39m int1\n",
      "Cell \u001b[0;32mIn[50], line 19\u001b[0m, in \u001b[0;36mOne_Factor_Model.theta\u001b[0;34m(self, t)\u001b[0m\n\u001b[1;32m     17\u001b[0m \u001b[38;5;28;01mdef\u001b[39;00m \u001b[38;5;21mtheta\u001b[39m(\u001b[38;5;28mself\u001b[39m, t):\n\u001b[1;32m     18\u001b[0m     f_t \u001b[38;5;241m=\u001b[39m \u001b[38;5;28mself\u001b[39m\u001b[38;5;241m.\u001b[39mforward_spline(t)\n\u001b[0;32m---> 19\u001b[0m     df_dt \u001b[38;5;241m=\u001b[39m \u001b[38;5;28mself\u001b[39m\u001b[38;5;241m.\u001b[39mforward_spline\u001b[38;5;241m.\u001b[39mderivative()(t)\n\u001b[1;32m     20\u001b[0m     term2 \u001b[38;5;241m=\u001b[39m \u001b[38;5;28mself\u001b[39m\u001b[38;5;241m.\u001b[39mkappa \u001b[38;5;241m*\u001b[39m f_t\n\u001b[1;32m     21\u001b[0m     term3 \u001b[38;5;241m=\u001b[39m (\u001b[38;5;28mself\u001b[39m\u001b[38;5;241m.\u001b[39msigma\u001b[38;5;241m*\u001b[39m\u001b[38;5;241m*\u001b[39m\u001b[38;5;241m2\u001b[39m \u001b[38;5;241m/\u001b[39m (\u001b[38;5;241m2\u001b[39m \u001b[38;5;241m*\u001b[39m \u001b[38;5;28mself\u001b[39m\u001b[38;5;241m.\u001b[39mkappa)) \u001b[38;5;241m*\u001b[39m (\u001b[38;5;241m1\u001b[39m \u001b[38;5;241m-\u001b[39m np\u001b[38;5;241m.\u001b[39mexp(\u001b[38;5;241m-\u001b[39m\u001b[38;5;241m2\u001b[39m \u001b[38;5;241m*\u001b[39m \u001b[38;5;28mself\u001b[39m\u001b[38;5;241m.\u001b[39mkappa \u001b[38;5;241m*\u001b[39m t)) \u001b[38;5;28;01mif\u001b[39;00m \u001b[38;5;28mself\u001b[39m\u001b[38;5;241m.\u001b[39mkappa \u001b[38;5;241m>\u001b[39m \u001b[38;5;241m1e-6\u001b[39m \u001b[38;5;28;01melse\u001b[39;00m \u001b[38;5;241m0\u001b[39m\n",
      "File \u001b[0;32m/opt/anaconda3/lib/python3.12/site-packages/scipy/interpolate/_interpolate.py:894\u001b[0m, in \u001b[0;36mPPoly.derivative\u001b[0;34m(self, nu)\u001b[0m\n\u001b[1;32m    891\u001b[0m     c2 \u001b[38;5;241m=\u001b[39m np\u001b[38;5;241m.\u001b[39mzeros((\u001b[38;5;241m1\u001b[39m,) \u001b[38;5;241m+\u001b[39m c2\u001b[38;5;241m.\u001b[39mshape[\u001b[38;5;241m1\u001b[39m:], dtype\u001b[38;5;241m=\u001b[39mc2\u001b[38;5;241m.\u001b[39mdtype)\n\u001b[1;32m    893\u001b[0m \u001b[38;5;66;03m# multiply by the correct rising factorials\u001b[39;00m\n\u001b[0;32m--> 894\u001b[0m factor \u001b[38;5;241m=\u001b[39m spec\u001b[38;5;241m.\u001b[39mpoch(np\u001b[38;5;241m.\u001b[39marange(c2\u001b[38;5;241m.\u001b[39mshape[\u001b[38;5;241m0\u001b[39m], \u001b[38;5;241m0\u001b[39m, \u001b[38;5;241m-\u001b[39m\u001b[38;5;241m1\u001b[39m), nu)\n\u001b[1;32m    895\u001b[0m c2 \u001b[38;5;241m*\u001b[39m\u001b[38;5;241m=\u001b[39m factor[(\u001b[38;5;28mslice\u001b[39m(\u001b[38;5;28;01mNone\u001b[39;00m),) \u001b[38;5;241m+\u001b[39m (\u001b[38;5;28;01mNone\u001b[39;00m,)\u001b[38;5;241m*\u001b[39m(c2\u001b[38;5;241m.\u001b[39mndim\u001b[38;5;241m-\u001b[39m\u001b[38;5;241m1\u001b[39m)]\n\u001b[1;32m    897\u001b[0m \u001b[38;5;66;03m# construct a compatible polynomial\u001b[39;00m\n",
      "\u001b[0;31mKeyboardInterrupt\u001b[0m: "
     ]
    }
   ],
   "source": [
    "# Optimization\n",
    "class Fitter:\n",
    "    def __init__(self, model, obs_yields, obs_times, dist='Q'):\n",
    "        self.model = model\n",
    "        self.data = np.array(obs_yields)\n",
    "        self.times = np.array(obs_times)\n",
    "        self.dist = dist\n",
    "    \n",
    "    def residuals(self, x):\n",
    "        m = self.model\n",
    "        m.update_params(x)\n",
    "        model_yields = np.array([m.yield_curve(t) for t in self.times])\n",
    "        if self.dist == 'Q':\n",
    "            return model_yields - self.data\n",
    "        elif self.dist == 'WLS':\n",
    "            weights = 1 / self.times\n",
    "            return weights * (model_yields - self.data)\n",
    "        else:\n",
    "            raise ValueError(\"dist must be 'Q' or 'WLS'\")\n",
    "    \n",
    "    def fit(self, x0, solver='trf'):\n",
    "        bounds = ([1e-6, 1e-6, 1e-6], [np.inf, 0.5, 0.5])\n",
    "        result = least_squares(self.residuals, x0, method=solver, bounds=bounds, verbose=1)\n",
    "        if not result.success:\n",
    "            warnings.warn(\"Fit did not converge\")\n",
    "        return result\n",
    "\n",
    "# Test and Fit\n",
    "\n",
    "x0 = [0.04, 0.05, 0.05]\n",
    "fitter = Fitter(m, yields, times, 'Q')\n",
    "fit_result = fitter.fit(x0)\n",
    "print(\"Optimized parameters [r0, kappa, sigma]:\", fit_result.x)\n",
    "m.update_params(fit_result.x)\n",
    "\n",
    "plot_yields(dt, times, yields, m)"
   ]
  },
  {
   "cell_type": "code",
   "execution_count": null,
   "metadata": {},
   "outputs": [],
   "source": [
    "# Collinearity Check\n",
    "jac = fit_result.jac\n",
    "c = np.cov(np.transpose(jac))\n",
    "val, vec = np.linalg.eig(c)\n",
    "cn = val[0] / val[-1]\n",
    "print(\"Condition number:\", cn)"
   ]
  },
  {
   "cell_type": "code",
   "execution_count": null,
   "metadata": {},
   "outputs": [],
   "source": []
  },
  {
   "cell_type": "code",
   "execution_count": null,
   "metadata": {},
   "outputs": [],
   "source": []
  }
 ],
 "metadata": {
  "kernelspec": {
   "display_name": "base",
   "language": "python",
   "name": "python3"
  },
  "language_info": {
   "codemirror_mode": {
    "name": "ipython",
    "version": 3
   },
   "file_extension": ".py",
   "mimetype": "text/x-python",
   "name": "python",
   "nbconvert_exporter": "python",
   "pygments_lexer": "ipython3",
   "version": "3.12.2"
  }
 },
 "nbformat": 4,
 "nbformat_minor": 2
}
